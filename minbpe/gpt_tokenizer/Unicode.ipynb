{
  "cells": [
    {
      "cell_type": "markdown",
      "metadata": {
        "colab_type": "text",
        "id": "view-in-github"
      },
      "source": [
        "<a href=\"https://colab.research.google.com/github/michaelwfc/nanoGPT/blob/develop/src/tokenizers/Unicode.ipynb\" target=\"_parent\"><img src=\"https://colab.research.google.com/assets/colab-badge.svg\" alt=\"Open In Colab\"/></a>"
      ]
    },
    {
      "cell_type": "code",
      "execution_count": null,
      "metadata": {
        "id": "mq3FQneETswA"
      },
      "outputs": [],
      "source": [
        "\n",
        "https://www.reedbeta.com/blog/programmers-intro-to-unicode/"
      ]
    },
    {
      "cell_type": "markdown",
      "metadata": {
        "id": "OOBRsCtUT4jm"
      },
      "source": []
    },
    {
      "cell_type": "code",
      "execution_count": 19,
      "metadata": {
        "colab": {
          "base_uri": "https://localhost:8080/"
        },
        "id": "fWRxJgjNWR_a",
        "outputId": "cbb954a9-f674-4b37-de53-862fe49eca70"
      },
      "outputs": [
        {
          "name": "stdout",
          "output_type": "stream",
          "text": [
            "char=A\n",
            "bytes=b'A'\n",
            "code point value =65\n",
            "hex_string=0x41\n",
            "back to char=A\n",
            "code_point_value=65, to hex=0x41, type=<class 'str'>\n"
          ]
        }
      ],
      "source": [
        "char = \"A\"\n",
        "text_bytes = bytes(char,\"utf-8\")\n",
        "\n",
        "code_point_value = ord(char)\n",
        "\n",
        "char_back = chr(65)\n",
        "\n",
        "hex_string = hex(code_point_value)\n",
        "\n",
        "print(f\"char={char}\\nbytes={text_bytes}\\ncode point value ={code_point_value}\\nhex_string={hex_string}\\nback to char={char_back}\")\n",
        "\n",
        "\n",
        "# bytes(hex_string,\"utf-8\").decode(\"utf-8\")"
      ]
    },
    {
      "cell_type": "code",
      "execution_count": 24,
      "metadata": {},
      "outputs": [
        {
          "data": {
            "text/plain": [
              "'�'"
            ]
          },
          "execution_count": 24,
          "metadata": {},
          "output_type": "execute_result"
        }
      ],
      "source": [
        "# for i in range(128):\n",
        "#   bytes_ = i.to_bytes(1)\n",
        "#   char = bytes_.decode(\"utf-8\")\n",
        "#   print(f\"i={i},bytes_={bytes_},char={char}\")\n",
        "integer = 128\n",
        "int_bytes = bytes([integer])\n",
        "\n",
        "int_bytes.decode('utf-8',errors= 'replace')\n"
      ]
    },
    {
      "cell_type": "code",
      "execution_count": 7,
      "metadata": {},
      "outputs": [
        {
          "name": "stdout",
          "output_type": "stream",
          "text": [
            "text=Abc 你好\n",
            "text_bytes=b'Abc \\xe4\\xbd\\xa0\\xe5\\xa5\\xbd'\n",
            "token_ids=[65, 98, 99, 32, 228, 189, 160, 229, 165, 189]\n",
            "token_id=189,token_bytes=b'\\xbd'\n"
          ]
        },
        {
          "data": {
            "text/plain": [
              "'Abc 你好'"
            ]
          },
          "execution_count": 7,
          "metadata": {},
          "output_type": "execute_result"
        }
      ],
      "source": [
        "text = \"Abc 你好\"\n",
        "text_bytes =  text.encode(\"utf-8\")\n",
        "token_ids = list(map(int, text_bytes))\n",
        "print(f\"text={text}\\ntext_bytes={text_bytes}\\ntoken_ids={token_ids}\")\n",
        "\n",
        "\n",
        "# for token_id in token_ids:\n",
        "#   if id<127:\n",
        "#     byte =  chr(token_id)\n",
        "#   else:\n",
        "#     byte =\n",
        "token_id =  token_ids[-1]\n",
        "# hex_string =  hex(token_id)\n",
        "token_bytes = token_id.to_bytes(1, byteorder='big')\n",
        "\n",
        "print(f\"token_id={token_id},token_bytes={token_bytes}\")\n",
        "\n",
        "\n",
        "bytes_ = b\"\".join([ token_id.to_bytes(1, byteorder='big') for token_id in token_ids])\n",
        "bytes_.decode()"
      ]
    },
    {
      "cell_type": "code",
      "execution_count": 2,
      "metadata": {
        "colab": {
          "base_uri": "https://localhost:8080/"
        },
        "id": "V_A_PwSYamiw",
        "outputId": "76635117-1e96-4efc-9eac-564ab5b2ff75"
      },
      "outputs": [
        {
          "name": "stdout",
          "output_type": "stream",
          "text": [
            "unicode_code_points:[72, 101, 108, 108, 111, 32, 20320, 32, 22909]\n",
            "s_bytes=b'Hello \\xe4\\xbd\\xa0 \\xe5\\xa5\\xbd'\n",
            "s.len=9\n",
            "s_bytes.len=13\n"
          ]
        }
      ],
      "source": [
        "s= \"Hello 你 好\"\n",
        "unicode_code_points = [ord(x) for x in s]\n",
        "print(f\"unicode_code_points:{unicode_code_points}\")\n",
        "\n",
        "s_bytes = s.encode('utf-8')\n",
        "s_bytes\n",
        "print(f\"s_bytes={s_bytes}\")\n",
        "print(f\"s.len={s.__len__()}\")\n",
        "print(f\"s_bytes.len={s_bytes.__len__()}\")"
      ]
    },
    {
      "cell_type": "code",
      "execution_count": 3,
      "metadata": {
        "colab": {
          "base_uri": "https://localhost:8080/"
        },
        "id": "EW4zJJh_U1Jv",
        "outputId": "d4e089b4-fd68-4611-c8fe-0bcd0b7b81f0"
      },
      "outputs": [
        {
          "name": "stdout",
          "output_type": "stream",
          "text": [
            "char=你, its bytes=b'\\xe4\\xbd\\xa0',char_bytes.len=3\n"
          ]
        }
      ],
      "source": [
        "# 0xb\n",
        "char_bytes = \"你\".encode()\n",
        "\n",
        "char = b\"\\xe4\\xbd\\xa0\".decode()\n",
        "\n",
        "print(f\"char={char}, its bytes={char_bytes},char_bytes.len={char_bytes.__len__()}\")\n"
      ]
    },
    {
      "cell_type": "code",
      "execution_count": 12,
      "metadata": {},
      "outputs": [
        {
          "name": "stdout",
          "output_type": "stream",
          "text": [
            "[228, 189, 160]\n"
          ]
        }
      ],
      "source": [
        "integers = list(map(int, b\"\\xe4\\xbd\\xa0\"))\n",
        "print(integers)\n",
        "# chr(integer)\n"
      ]
    }
  ],
  "metadata": {
    "colab": {
      "authorship_tag": "ABX9TyNFCcaVN9INUanlXAZeVQQs",
      "include_colab_link": true,
      "provenance": []
    },
    "kernelspec": {
      "display_name": "Python 3",
      "name": "python3"
    },
    "language_info": {
      "codemirror_mode": {
        "name": "ipython",
        "version": 3
      },
      "file_extension": ".py",
      "mimetype": "text/x-python",
      "name": "python",
      "nbconvert_exporter": "python",
      "pygments_lexer": "ipython3",
      "version": "3.11.5"
    }
  },
  "nbformat": 4,
  "nbformat_minor": 0
}
